{
 "cells": [
  {
   "cell_type": "code",
   "execution_count": 434,
   "id": "29b95eab-8e3d-4aba-b7a4-a07648932d42",
   "metadata": {},
   "outputs": [],
   "source": [
    "# Importing Libraries\n",
    "import warnings\n",
    "import pandas as pd\n",
    "import numpy as np\n",
    "import matplotlib.pyplot as plt\n",
    "import seaborn as sns\n",
    "%matplotlib inline\n",
    "\n",
    "from nltk.corpus import stopwords\n",
    "\n",
    "from sklearn.feature_extraction.text import CountVectorizer\n",
    "from sklearn.metrics.pairwise import cosine_similarity\n",
    "from sklearn.preprocessing import StandardScaler, LabelEncoder, MultiLabelBinarizer\n",
    "warnings.filterwarnings('ignore')"
   ]
  },
  {
   "cell_type": "code",
   "execution_count": 436,
   "id": "e261483d-ed34-413a-a490-4f28ab616543",
   "metadata": {},
   "outputs": [],
   "source": [
    "df = pd.read_csv(\"C:/Users/tusha/Downloads/Recommendation System/Recommendation System/anime.csv\")"
   ]
  },
  {
   "cell_type": "code",
   "execution_count": 438,
   "id": "313cef62-7b3f-4e5d-ba4e-04a61e80eae0",
   "metadata": {},
   "outputs": [
    {
     "data": {
      "text/html": [
       "<div>\n",
       "<style scoped>\n",
       "    .dataframe tbody tr th:only-of-type {\n",
       "        vertical-align: middle;\n",
       "    }\n",
       "\n",
       "    .dataframe tbody tr th {\n",
       "        vertical-align: top;\n",
       "    }\n",
       "\n",
       "    .dataframe thead th {\n",
       "        text-align: right;\n",
       "    }\n",
       "</style>\n",
       "<table border=\"1\" class=\"dataframe\">\n",
       "  <thead>\n",
       "    <tr style=\"text-align: right;\">\n",
       "      <th></th>\n",
       "      <th>anime_id</th>\n",
       "      <th>name</th>\n",
       "      <th>genre</th>\n",
       "      <th>type</th>\n",
       "      <th>episodes</th>\n",
       "      <th>rating</th>\n",
       "      <th>members</th>\n",
       "    </tr>\n",
       "  </thead>\n",
       "  <tbody>\n",
       "    <tr>\n",
       "      <th>0</th>\n",
       "      <td>32281</td>\n",
       "      <td>Kimi no Na wa.</td>\n",
       "      <td>Drama, Romance, School, Supernatural</td>\n",
       "      <td>Movie</td>\n",
       "      <td>1</td>\n",
       "      <td>9.37</td>\n",
       "      <td>200630</td>\n",
       "    </tr>\n",
       "    <tr>\n",
       "      <th>1</th>\n",
       "      <td>5114</td>\n",
       "      <td>Fullmetal Alchemist: Brotherhood</td>\n",
       "      <td>Action, Adventure, Drama, Fantasy, Magic, Mili...</td>\n",
       "      <td>TV</td>\n",
       "      <td>64</td>\n",
       "      <td>9.26</td>\n",
       "      <td>793665</td>\n",
       "    </tr>\n",
       "    <tr>\n",
       "      <th>2</th>\n",
       "      <td>28977</td>\n",
       "      <td>Gintama°</td>\n",
       "      <td>Action, Comedy, Historical, Parody, Samurai, S...</td>\n",
       "      <td>TV</td>\n",
       "      <td>51</td>\n",
       "      <td>9.25</td>\n",
       "      <td>114262</td>\n",
       "    </tr>\n",
       "    <tr>\n",
       "      <th>3</th>\n",
       "      <td>9253</td>\n",
       "      <td>Steins;Gate</td>\n",
       "      <td>Sci-Fi, Thriller</td>\n",
       "      <td>TV</td>\n",
       "      <td>24</td>\n",
       "      <td>9.17</td>\n",
       "      <td>673572</td>\n",
       "    </tr>\n",
       "    <tr>\n",
       "      <th>4</th>\n",
       "      <td>9969</td>\n",
       "      <td>Gintama&amp;#039;</td>\n",
       "      <td>Action, Comedy, Historical, Parody, Samurai, S...</td>\n",
       "      <td>TV</td>\n",
       "      <td>51</td>\n",
       "      <td>9.16</td>\n",
       "      <td>151266</td>\n",
       "    </tr>\n",
       "  </tbody>\n",
       "</table>\n",
       "</div>"
      ],
      "text/plain": [
       "   anime_id                              name  \\\n",
       "0     32281                    Kimi no Na wa.   \n",
       "1      5114  Fullmetal Alchemist: Brotherhood   \n",
       "2     28977                          Gintama°   \n",
       "3      9253                       Steins;Gate   \n",
       "4      9969                     Gintama&#039;   \n",
       "\n",
       "                                               genre   type episodes  rating  \\\n",
       "0               Drama, Romance, School, Supernatural  Movie        1    9.37   \n",
       "1  Action, Adventure, Drama, Fantasy, Magic, Mili...     TV       64    9.26   \n",
       "2  Action, Comedy, Historical, Parody, Samurai, S...     TV       51    9.25   \n",
       "3                                   Sci-Fi, Thriller     TV       24    9.17   \n",
       "4  Action, Comedy, Historical, Parody, Samurai, S...     TV       51    9.16   \n",
       "\n",
       "   members  \n",
       "0   200630  \n",
       "1   793665  \n",
       "2   114262  \n",
       "3   673572  \n",
       "4   151266  "
      ]
     },
     "execution_count": 438,
     "metadata": {},
     "output_type": "execute_result"
    }
   ],
   "source": [
    "df.head()"
   ]
  },
  {
   "cell_type": "code",
   "execution_count": 440,
   "id": "4f734708-a449-4668-a95e-6e5d2632eb03",
   "metadata": {},
   "outputs": [
    {
     "data": {
      "text/html": [
       "<div>\n",
       "<style scoped>\n",
       "    .dataframe tbody tr th:only-of-type {\n",
       "        vertical-align: middle;\n",
       "    }\n",
       "\n",
       "    .dataframe tbody tr th {\n",
       "        vertical-align: top;\n",
       "    }\n",
       "\n",
       "    .dataframe thead th {\n",
       "        text-align: right;\n",
       "    }\n",
       "</style>\n",
       "<table border=\"1\" class=\"dataframe\">\n",
       "  <thead>\n",
       "    <tr style=\"text-align: right;\">\n",
       "      <th></th>\n",
       "      <th>anime_id</th>\n",
       "      <th>rating</th>\n",
       "      <th>members</th>\n",
       "    </tr>\n",
       "  </thead>\n",
       "  <tbody>\n",
       "    <tr>\n",
       "      <th>count</th>\n",
       "      <td>12294.000000</td>\n",
       "      <td>12064.000000</td>\n",
       "      <td>1.229400e+04</td>\n",
       "    </tr>\n",
       "    <tr>\n",
       "      <th>mean</th>\n",
       "      <td>14058.221653</td>\n",
       "      <td>6.473902</td>\n",
       "      <td>1.807134e+04</td>\n",
       "    </tr>\n",
       "    <tr>\n",
       "      <th>std</th>\n",
       "      <td>11455.294701</td>\n",
       "      <td>1.026746</td>\n",
       "      <td>5.482068e+04</td>\n",
       "    </tr>\n",
       "    <tr>\n",
       "      <th>min</th>\n",
       "      <td>1.000000</td>\n",
       "      <td>1.670000</td>\n",
       "      <td>5.000000e+00</td>\n",
       "    </tr>\n",
       "    <tr>\n",
       "      <th>25%</th>\n",
       "      <td>3484.250000</td>\n",
       "      <td>5.880000</td>\n",
       "      <td>2.250000e+02</td>\n",
       "    </tr>\n",
       "    <tr>\n",
       "      <th>50%</th>\n",
       "      <td>10260.500000</td>\n",
       "      <td>6.570000</td>\n",
       "      <td>1.550000e+03</td>\n",
       "    </tr>\n",
       "    <tr>\n",
       "      <th>75%</th>\n",
       "      <td>24794.500000</td>\n",
       "      <td>7.180000</td>\n",
       "      <td>9.437000e+03</td>\n",
       "    </tr>\n",
       "    <tr>\n",
       "      <th>max</th>\n",
       "      <td>34527.000000</td>\n",
       "      <td>10.000000</td>\n",
       "      <td>1.013917e+06</td>\n",
       "    </tr>\n",
       "  </tbody>\n",
       "</table>\n",
       "</div>"
      ],
      "text/plain": [
       "           anime_id        rating       members\n",
       "count  12294.000000  12064.000000  1.229400e+04\n",
       "mean   14058.221653      6.473902  1.807134e+04\n",
       "std    11455.294701      1.026746  5.482068e+04\n",
       "min        1.000000      1.670000  5.000000e+00\n",
       "25%     3484.250000      5.880000  2.250000e+02\n",
       "50%    10260.500000      6.570000  1.550000e+03\n",
       "75%    24794.500000      7.180000  9.437000e+03\n",
       "max    34527.000000     10.000000  1.013917e+06"
      ]
     },
     "execution_count": 440,
     "metadata": {},
     "output_type": "execute_result"
    }
   ],
   "source": [
    "df.describe()"
   ]
  },
  {
   "cell_type": "code",
   "execution_count": 442,
   "id": "6b6e5158-9c7e-4e65-bb98-b90d695bff26",
   "metadata": {},
   "outputs": [
    {
     "data": {
      "text/html": [
       "<div>\n",
       "<style scoped>\n",
       "    .dataframe tbody tr th:only-of-type {\n",
       "        vertical-align: middle;\n",
       "    }\n",
       "\n",
       "    .dataframe tbody tr th {\n",
       "        vertical-align: top;\n",
       "    }\n",
       "\n",
       "    .dataframe thead th {\n",
       "        text-align: right;\n",
       "    }\n",
       "</style>\n",
       "<table border=\"1\" class=\"dataframe\">\n",
       "  <thead>\n",
       "    <tr style=\"text-align: right;\">\n",
       "      <th></th>\n",
       "      <th>anime_id</th>\n",
       "      <th>name</th>\n",
       "      <th>genre</th>\n",
       "      <th>type</th>\n",
       "      <th>episodes</th>\n",
       "      <th>rating</th>\n",
       "      <th>members</th>\n",
       "    </tr>\n",
       "  </thead>\n",
       "  <tbody>\n",
       "    <tr>\n",
       "      <th>22</th>\n",
       "      <td>1</td>\n",
       "      <td>Cowboy Bebop</td>\n",
       "      <td>Action, Adventure, Comedy, Drama, Sci-Fi, Space</td>\n",
       "      <td>TV</td>\n",
       "      <td>26</td>\n",
       "      <td>8.82</td>\n",
       "      <td>486824</td>\n",
       "    </tr>\n",
       "    <tr>\n",
       "      <th>152</th>\n",
       "      <td>5</td>\n",
       "      <td>Cowboy Bebop: Tengoku no Tobira</td>\n",
       "      <td>Action, Drama, Mystery, Sci-Fi, Space</td>\n",
       "      <td>Movie</td>\n",
       "      <td>1</td>\n",
       "      <td>8.40</td>\n",
       "      <td>137636</td>\n",
       "    </tr>\n",
       "    <tr>\n",
       "      <th>214</th>\n",
       "      <td>6</td>\n",
       "      <td>Trigun</td>\n",
       "      <td>Action, Comedy, Sci-Fi</td>\n",
       "      <td>TV</td>\n",
       "      <td>26</td>\n",
       "      <td>8.32</td>\n",
       "      <td>283069</td>\n",
       "    </tr>\n",
       "    <tr>\n",
       "      <th>2095</th>\n",
       "      <td>7</td>\n",
       "      <td>Witch Hunter Robin</td>\n",
       "      <td>Action, Drama, Magic, Mystery, Police, Superna...</td>\n",
       "      <td>TV</td>\n",
       "      <td>26</td>\n",
       "      <td>7.36</td>\n",
       "      <td>64905</td>\n",
       "    </tr>\n",
       "    <tr>\n",
       "      <th>3159</th>\n",
       "      <td>8</td>\n",
       "      <td>Beet the Vandel Buster</td>\n",
       "      <td>Adventure, Fantasy, Shounen, Supernatural</td>\n",
       "      <td>TV</td>\n",
       "      <td>52</td>\n",
       "      <td>7.06</td>\n",
       "      <td>9848</td>\n",
       "    </tr>\n",
       "  </tbody>\n",
       "</table>\n",
       "</div>"
      ],
      "text/plain": [
       "      anime_id                             name  \\\n",
       "22           1                     Cowboy Bebop   \n",
       "152          5  Cowboy Bebop: Tengoku no Tobira   \n",
       "214          6                           Trigun   \n",
       "2095         7               Witch Hunter Robin   \n",
       "3159         8           Beet the Vandel Buster   \n",
       "\n",
       "                                                  genre   type episodes  \\\n",
       "22      Action, Adventure, Comedy, Drama, Sci-Fi, Space     TV       26   \n",
       "152               Action, Drama, Mystery, Sci-Fi, Space  Movie        1   \n",
       "214                              Action, Comedy, Sci-Fi     TV       26   \n",
       "2095  Action, Drama, Magic, Mystery, Police, Superna...     TV       26   \n",
       "3159          Adventure, Fantasy, Shounen, Supernatural     TV       52   \n",
       "\n",
       "      rating  members  \n",
       "22      8.82   486824  \n",
       "152     8.40   137636  \n",
       "214     8.32   283069  \n",
       "2095    7.36    64905  \n",
       "3159    7.06     9848  "
      ]
     },
     "execution_count": 442,
     "metadata": {},
     "output_type": "execute_result"
    }
   ],
   "source": [
    "df= df.sort_values(by='anime_id',ascending=True)\n",
    "df.head(5)"
   ]
  },
  {
   "cell_type": "code",
   "execution_count": 444,
   "id": "c69d2481-8610-46b0-a7d8-dc96fe5a3655",
   "metadata": {},
   "outputs": [
    {
     "data": {
      "text/plain": [
       "(12294, 7)"
      ]
     },
     "execution_count": 444,
     "metadata": {},
     "output_type": "execute_result"
    }
   ],
   "source": [
    "df.shape"
   ]
  },
  {
   "cell_type": "code",
   "execution_count": 446,
   "id": "63a7e72f-4d8a-4896-b6ed-a3e2f9a00e18",
   "metadata": {},
   "outputs": [
    {
     "data": {
      "text/plain": [
       "anime_id      0\n",
       "name          0\n",
       "genre        62\n",
       "type         25\n",
       "episodes      0\n",
       "rating      230\n",
       "members       0\n",
       "dtype: int64"
      ]
     },
     "execution_count": 446,
     "metadata": {},
     "output_type": "execute_result"
    }
   ],
   "source": [
    "df.isna().sum()"
   ]
  },
  {
   "cell_type": "code",
   "execution_count": null,
   "id": "efdaad9d-8dfa-4ce7-992d-5c314c1409a4",
   "metadata": {},
   "outputs": [],
   "source": []
  },
  {
   "cell_type": "code",
   "execution_count": 449,
   "id": "ff3b9548-bedd-441f-930a-fa9cf7d567ac",
   "metadata": {},
   "outputs": [],
   "source": [
    "df[\"genre\"].fillna(\"Unknown\", inplace=True)  # Fill missing genres with \"Unknown\"\n",
    "df[\"type\"].fillna(\"Unknown\", inplace=True)  # Fill missing types with \"Unknown\"\n",
    "df[\"rating\"].fillna(df[\"rating\"].mean(), inplace=True)"
   ]
  },
  {
   "cell_type": "code",
   "execution_count": 451,
   "id": "fd87b4e9-4ee8-4e42-9120-8764ccb1d03f",
   "metadata": {},
   "outputs": [
    {
     "data": {
      "text/plain": [
       "anime_id    0\n",
       "name        0\n",
       "genre       0\n",
       "type        0\n",
       "episodes    0\n",
       "rating      0\n",
       "members     0\n",
       "dtype: int64"
      ]
     },
     "execution_count": 451,
     "metadata": {},
     "output_type": "execute_result"
    }
   ],
   "source": [
    "df.isna().sum()"
   ]
  },
  {
   "cell_type": "code",
   "execution_count": 453,
   "id": "8bfaa650-cfaa-4a30-8556-a207dd794eb4",
   "metadata": {},
   "outputs": [
    {
     "data": {
      "text/plain": [
       "(12294, 7)"
      ]
     },
     "execution_count": 453,
     "metadata": {},
     "output_type": "execute_result"
    }
   ],
   "source": [
    "df.shape"
   ]
  },
  {
   "cell_type": "code",
   "execution_count": 455,
   "id": "3184c5dd-0c37-4e3e-8ed5-134b6d0fac72",
   "metadata": {},
   "outputs": [
    {
     "data": {
      "text/plain": [
       "0"
      ]
     },
     "execution_count": 455,
     "metadata": {},
     "output_type": "execute_result"
    }
   ],
   "source": [
    "df.duplicated().sum()"
   ]
  },
  {
   "cell_type": "markdown",
   "id": "398f0cf4-e255-4f53-844e-2cd0acd5e67e",
   "metadata": {},
   "source": [
    "### we can see that there is no dublicate value"
   ]
  },
  {
   "cell_type": "code",
   "execution_count": 458,
   "id": "403b7319-67df-4a82-9b41-b2eae0ef748d",
   "metadata": {},
   "outputs": [
    {
     "data": {
      "text/plain": [
       "3265"
      ]
     },
     "execution_count": 458,
     "metadata": {},
     "output_type": "execute_result"
    }
   ],
   "source": [
    "df['genre'].nunique()"
   ]
  },
  {
   "cell_type": "code",
   "execution_count": 460,
   "id": "17f6adc9-d362-471d-9dda-984d0065f66e",
   "metadata": {},
   "outputs": [],
   "source": [
    "genre_df= df['genre'].unique()"
   ]
  },
  {
   "cell_type": "code",
   "execution_count": 462,
   "id": "c902b7ba-bcb5-418b-a4ce-0c15c00834db",
   "metadata": {},
   "outputs": [
    {
     "data": {
      "text/plain": [
       "array(['Action, Adventure, Comedy, Drama, Sci-Fi, Space',\n",
       "       'Action, Drama, Mystery, Sci-Fi, Space', 'Action, Comedy, Sci-Fi',\n",
       "       ..., 'Action, Fantasy, Super Power, Supernatural, Vampire',\n",
       "       'Action, Adventure, Fantasy, Game, Kids',\n",
       "       'Comedy, Fantasy, Slice of Life, Supernatural'], dtype=object)"
      ]
     },
     "execution_count": 462,
     "metadata": {},
     "output_type": "execute_result"
    }
   ],
   "source": [
    "genre_df"
   ]
  },
  {
   "cell_type": "code",
   "execution_count": 464,
   "id": "0d05e881-9560-49f9-b878-7dc54b4b1ebb",
   "metadata": {},
   "outputs": [
    {
     "data": {
      "text/html": [
       "<div>\n",
       "<style scoped>\n",
       "    .dataframe tbody tr th:only-of-type {\n",
       "        vertical-align: middle;\n",
       "    }\n",
       "\n",
       "    .dataframe tbody tr th {\n",
       "        vertical-align: top;\n",
       "    }\n",
       "\n",
       "    .dataframe thead th {\n",
       "        text-align: right;\n",
       "    }\n",
       "</style>\n",
       "<table border=\"1\" class=\"dataframe\">\n",
       "  <thead>\n",
       "    <tr style=\"text-align: right;\">\n",
       "      <th></th>\n",
       "      <th>anime_id</th>\n",
       "      <th>rating</th>\n",
       "      <th>members</th>\n",
       "    </tr>\n",
       "  </thead>\n",
       "  <tbody>\n",
       "    <tr>\n",
       "      <th>count</th>\n",
       "      <td>12294.000000</td>\n",
       "      <td>12294.000000</td>\n",
       "      <td>1.229400e+04</td>\n",
       "    </tr>\n",
       "    <tr>\n",
       "      <th>mean</th>\n",
       "      <td>14058.221653</td>\n",
       "      <td>6.473902</td>\n",
       "      <td>1.807134e+04</td>\n",
       "    </tr>\n",
       "    <tr>\n",
       "      <th>std</th>\n",
       "      <td>11455.294701</td>\n",
       "      <td>1.017096</td>\n",
       "      <td>5.482068e+04</td>\n",
       "    </tr>\n",
       "    <tr>\n",
       "      <th>min</th>\n",
       "      <td>1.000000</td>\n",
       "      <td>1.670000</td>\n",
       "      <td>5.000000e+00</td>\n",
       "    </tr>\n",
       "    <tr>\n",
       "      <th>25%</th>\n",
       "      <td>3484.250000</td>\n",
       "      <td>5.900000</td>\n",
       "      <td>2.250000e+02</td>\n",
       "    </tr>\n",
       "    <tr>\n",
       "      <th>50%</th>\n",
       "      <td>10260.500000</td>\n",
       "      <td>6.550000</td>\n",
       "      <td>1.550000e+03</td>\n",
       "    </tr>\n",
       "    <tr>\n",
       "      <th>75%</th>\n",
       "      <td>24794.500000</td>\n",
       "      <td>7.170000</td>\n",
       "      <td>9.437000e+03</td>\n",
       "    </tr>\n",
       "    <tr>\n",
       "      <th>max</th>\n",
       "      <td>34527.000000</td>\n",
       "      <td>10.000000</td>\n",
       "      <td>1.013917e+06</td>\n",
       "    </tr>\n",
       "  </tbody>\n",
       "</table>\n",
       "</div>"
      ],
      "text/plain": [
       "           anime_id        rating       members\n",
       "count  12294.000000  12294.000000  1.229400e+04\n",
       "mean   14058.221653      6.473902  1.807134e+04\n",
       "std    11455.294701      1.017096  5.482068e+04\n",
       "min        1.000000      1.670000  5.000000e+00\n",
       "25%     3484.250000      5.900000  2.250000e+02\n",
       "50%    10260.500000      6.550000  1.550000e+03\n",
       "75%    24794.500000      7.170000  9.437000e+03\n",
       "max    34527.000000     10.000000  1.013917e+06"
      ]
     },
     "execution_count": 464,
     "metadata": {},
     "output_type": "execute_result"
    }
   ],
   "source": [
    "df.describe()"
   ]
  },
  {
   "cell_type": "markdown",
   "id": "ce1e069b-409a-4c83-98fd-e002344a00d9",
   "metadata": {},
   "source": [
    "### We can see that the minimum rating score is 1.67 and the maximum rating score is 10. The minimum members is 5 and the maximum is 1,013,917."
   ]
  },
  {
   "cell_type": "code",
   "execution_count": 467,
   "id": "388a3a93-ae6a-40e1-92af-edea717745cd",
   "metadata": {},
   "outputs": [
    {
     "name": "stdout",
     "output_type": "stream",
     "text": [
      "type\n",
      "TV         3787\n",
      "OVA        3311\n",
      "Movie      2348\n",
      "Special    1676\n",
      "ONA         659\n",
      "Music       488\n",
      "Unknown      25\n",
      "Name: count, dtype: int64\n"
     ]
    }
   ],
   "source": [
    "type_values = df['type'].value_counts()\n",
    "print(type_values)"
   ]
  },
  {
   "cell_type": "code",
   "execution_count": 469,
   "id": "91b48061-6874-4af8-93f6-d6667f477de9",
   "metadata": {},
   "outputs": [],
   "source": [
    "type_cat=df['type'].unique()"
   ]
  },
  {
   "cell_type": "markdown",
   "id": "4adbe924-3bd3-4c67-a661-0330a80adb0b",
   "metadata": {},
   "source": [
    "### Most anime are broadcast of the TV, followed by OVA."
   ]
  },
  {
   "cell_type": "code",
   "execution_count": 472,
   "id": "0a87ac82-57b3-4f01-9b76-86aa389f3aa2",
   "metadata": {},
   "outputs": [
    {
     "data": {
      "text/plain": [
       "([<matplotlib.patches.Wedge at 0x1db2fb65730>,\n",
       "  <matplotlib.patches.Wedge at 0x1db2f7675f0>,\n",
       "  <matplotlib.patches.Wedge at 0x1db2fb65d30>,\n",
       "  <matplotlib.patches.Wedge at 0x1db2fb66300>,\n",
       "  <matplotlib.patches.Wedge at 0x1db2fb66960>,\n",
       "  <matplotlib.patches.Wedge at 0x1db2fb66ff0>,\n",
       "  <matplotlib.patches.Wedge at 0x1db2fb67560>],\n",
       " [Text(-0.9059572991522516, 0.6238921157642224, 'TV'),\n",
       "  Text(-0.38755720654327114, -1.0294655951785745, 'Movie'),\n",
       "  Text(0.9732671139876605, -0.5125925524528527, 'OVA'),\n",
       "  Text(0.9414768011372312, 0.5688773443550083, 'Special'),\n",
       "  Text(0.4591403339258186, 0.999594994866665, 'ONA'),\n",
       "  Text(0.15075176626121053, 1.0896209914319408, 'Music'),\n",
       "  Text(0.007027168214030716, 1.099977553819573, 'Unknown')],\n",
       " [Text(-0.494158526810319, 0.3403047904168485, '30.8%\\n(3787)'),\n",
       "  Text(-0.2113948399326933, -0.5615266882792224, '26.9%\\n(3311)'),\n",
       "  Text(0.5308729712659965, -0.279595937701556, '19.1%\\n(2348)'),\n",
       "  Text(0.5135328006203078, 0.31029673328454993, '13.6%\\n(1676)'),\n",
       "  Text(0.2504401821413556, 0.5452336335636354, '5.4%\\n(659)'),\n",
       "  Text(0.08222823614247846, 0.5943387225992404, '4.0%\\n(488)'),\n",
       "  Text(0.0038330008440167537, 0.599987756628858, '0.2%\\n(25)')])"
      ]
     },
     "execution_count": 472,
     "metadata": {},
     "output_type": "execute_result"
    },
    {
     "data": {
      "image/png": "[encoded data removed]",
      "text/plain": [
       "<Figure size 1000x1000 with 1 Axes>"
      ]
     },
     "metadata": {},
     "output_type": "display_data"
    }
   ],
   "source": [
    "\n",
    "def autopct_format(pct, all_values):\n",
    "    absolute = int(round(pct/100. * sum(all_values)))  # Convert percentage to absolute count\n",
    "    return f\"{pct:.1f}%\\n({absolute})\"\n",
    "\n",
    "plt.figure(figsize=(10,10))\n",
    "plt.pie(x=type_values, labels=type_cat, autopct=lambda pct: autopct_format(pct, type_values), startangle=90, wedgeprops={'edgecolor': 'white'})\n",
    "\n",
    "#plt.pie(x=type_values,data=df,labels=type_cat)\n"
   ]
  },
  {
   "cell_type": "markdown",
   "id": "469ddddb-d0a9-498b-aa54-a3e9529fdc83",
   "metadata": {},
   "source": [
    "### Plot the distribution of ratings"
   ]
  },
  {
   "cell_type": "code",
   "execution_count": 475,
   "id": "722610e4-3612-4f6b-8962-8e61ba870090",
   "metadata": {},
   "outputs": [
    {
     "data": {
      "image/png": "[encoded data removed]",
      "text/plain": [
       "<Figure size 1000x500 with 1 Axes>"
      ]
     },
     "metadata": {},
     "output_type": "display_data"
    }
   ],
   "source": [
    "plt.figure(figsize=(10, 5))\n",
    "sns.histplot(df['rating'], bins=20, kde=True, color='blue')\n",
    "plt.xlabel('Rating')\n",
    "plt.ylabel('Count')\n",
    "plt.title('Distribution of Anime Ratings')\n",
    "plt.show()"
   ]
  },
  {
   "cell_type": "markdown",
   "id": "428eede0-996e-46ac-a530-6d1761c917fd",
   "metadata": {},
   "source": [
    "### Most Popular Anime by Members"
   ]
  },
  {
   "cell_type": "code",
   "execution_count": 478,
   "id": "eab3ff7a-3f90-4cd4-a078-7b5220758fee",
   "metadata": {},
   "outputs": [
    {
     "data": {
      "image/png": "[encoded data removed]",
      "text/plain": [
       "<Figure size 1200x600 with 1 Axes>"
      ]
     },
     "metadata": {},
     "output_type": "display_data"
    }
   ],
   "source": [
    "top_anime = df.sort_values(by=\"members\", ascending=False).head(10)\n",
    "\n",
    "plt.figure(figsize=(12, 6))\n",
    "sns.barplot(x=top_anime[\"members\"], y=top_anime[\"name\"], palette=\"viridis\")\n",
    "plt.xlabel(\"Number of Members\")\n",
    "plt.ylabel(\"Anime Name\")\n",
    "plt.title(\"Top 10 Most Popular Animes by Members\")\n",
    "plt.show()"
   ]
  },
  {
   "cell_type": "code",
   "execution_count": 489,
   "id": "7098fa90-5d47-42f0-8437-6db6b46038d4",
   "metadata": {},
   "outputs": [
    {
     "data": {
      "image/png": "[encoded data removed]",
      "text/plain": [
       "<Figure size 800x500 with 1 Axes>"
      ]
     },
     "metadata": {},
     "output_type": "display_data"
    }
   ],
   "source": [
    "plt.figure(figsize=(8, 5))\n",
    "sns.countplot(y=df[\"type\"], palette=\"coolwarm\")\n",
    "plt.xlabel(\"Count\")\n",
    "plt.ylabel(\"Anime Type\")\n",
    "plt.title(\"Distribution of Anime Types\")\n",
    "plt.show()"
   ]
  },
  {
   "cell_type": "code",
   "execution_count": 491,
   "id": "a5909dda-ae4a-480e-8621-18fa57248368",
   "metadata": {},
   "outputs": [
    {
     "name": "stdout",
     "output_type": "stream",
     "text": [
      "Final feature matrix shape: (12294, 56)\n"
     ]
    }
   ],
   "source": [
    "import pandas as pd\n",
    "from sklearn.preprocessing import MinMaxScaler\n",
    "from sklearn.feature_extraction.text import TfidfVectorizer\n",
    "\n",
    "\n",
    "\n",
    "\n",
    "\n",
    "\n",
    "# Normalize numerical features\n",
    "scaler = MinMaxScaler()\n",
    "df[[\"rating\", \"members\"]] = scaler.fit_transform(df[[\"rating\", \"members\"]])\n",
    "\n",
    "# Convert 'genre' into a numerical representation using TF-IDF\n",
    "vectorizer = TfidfVectorizer(stop_words=\"english\")\n",
    "genre_tfidf = vectorizer.fit_transform(df[\"genre\"])\n",
    "\n",
    "# Convert 'type' into one-hot encoding\n",
    "type_dummies = pd.get_dummies(df[\"type\"])\n",
    "\n",
    "# Combine all processed features\n",
    "import scipy.sparse as sp\n",
    "import numpy as np\n",
    "\n",
    "features = sp.hstack([genre_tfidf, type_dummies, df[[\"rating\", \"members\"]].values], format=\"csr\")\n",
    "\n",
    "# Print shape of final feature matrix\n",
    "print(\"Final feature matrix shape:\", features.shape)\n"
   ]
  },
  {
   "cell_type": "code",
   "execution_count": 493,
   "id": "c44ad194-7032-4415-9831-415732d20d48",
   "metadata": {},
   "outputs": [],
   "source": [
    "from sklearn.preprocessing import MinMaxScaler\n",
    "\n",
    "# Normalize numerical features\n",
    "scaler = MinMaxScaler()\n",
    "df[[\"rating\", \"members\"]] = scaler.fit_transform(df[[\"rating\", \"members\"]])\n"
   ]
  },
  {
   "cell_type": "markdown",
   "id": "4ae48014-b161-4aff-89bf-db8dc4127692",
   "metadata": {},
   "source": [
    " ### Function to Recommend Anime"
   ]
  },
  {
   "cell_type": "code",
   "execution_count": 496,
   "id": "0cb0cf47-eca5-4521-aacb-92928d801ffc",
   "metadata": {},
   "outputs": [
    {
     "name": "stdout",
     "output_type": "stream",
     "text": [
      "                                                   name    rating\n",
      "2691                  Yakushiji Ryouko no Kaiki Jikenbo  0.662665\n",
      "5322  Gyakuten Saiban: Sono &quot;Shinjitsu&quot;, I...  0.578631\n",
      "4513                                             Tokkou  0.605042\n",
      "4948                             L/R: Licensed by Royal  0.590636\n",
      "739                                     Tantei Gakuen Q  0.744298\n"
     ]
    }
   ],
   "source": [
    "from sklearn.metrics.pairwise import cosine_similarity\n",
    "import numpy as np\n",
    "\n",
    "def recommend_anime(anime_name, df, features, top_n=5):\n",
    "    \"\"\"\n",
    "    Recommends similar anime based on cosine similarity.\n",
    "\n",
    "    Parameters:\n",
    "        anime_name (str): Name of the anime for which recommendations are needed.\n",
    "        df (pd.DataFrame): The original dataset containing anime details.\n",
    "        features (sparse matrix): Preprocessed feature matrix.\n",
    "        top_n (int): Number of recommendations to return.\n",
    "\n",
    "    Returns:\n",
    "        List of recommended anime.\n",
    "    \"\"\"\n",
    "    # Get the index of the given anime\n",
    "    idx = df[df[\"name\"].str.lower() == anime_name.lower()].index\n",
    "\n",
    "    if len(idx) == 0:\n",
    "        return \"Anime not found in the dataset.\"\n",
    "\n",
    "    idx = idx[0]\n",
    "\n",
    "    # Compute cosine similarity with all anime\n",
    "    similarity_scores = cosine_similarity(features[idx], features).flatten()\n",
    "\n",
    "    # Get indices of top similar anime (excluding itself)\n",
    "    similar_indices = np.argsort(similarity_scores)[::-1][1:top_n+1]\n",
    "\n",
    "    # Get the recommended anime names\n",
    "    recommended_anime = df.iloc[similar_indices][[\"name\", \"rating\"]]\n",
    "\n",
    "    return recommended_anime\n",
    "\n",
    "# Example usage:\n",
    "anime_to_search = \"Steins;Gate\"  # Change this to any anime name\n",
    "recommendations = recommend_anime(anime_to_search, df, features, top_n=5)\n",
    "print(recommendations)\n",
    "\n",
    "\n",
    "\n"
   ]
  },
  {
   "cell_type": "markdown",
   "id": "a5b8a789-1f5b-40dc-9db6-e99edb6ac0be",
   "metadata": {},
   "source": [
    "\n",
    "### Given a target anime, recommend a list of similar anime based on cosine similarity scores.\n"
   ]
  },
  {
   "cell_type": "code",
   "execution_count": 499,
   "id": "455beb61-aa54-48ca-ab71-e68e4ad03d2e",
   "metadata": {},
   "outputs": [
    {
     "name": "stdout",
     "output_type": "stream",
     "text": [
      "                                                   name    rating  \\\n",
      "2691                  Yakushiji Ryouko no Kaiki Jikenbo  0.662665   \n",
      "5322  Gyakuten Saiban: Sono &quot;Shinjitsu&quot;, I...  0.578631   \n",
      "4513                                             Tokkou  0.605042   \n",
      "4948                             L/R: Licensed by Royal  0.590636   \n",
      "739                                     Tantei Gakuen Q  0.744298   \n",
      "\n",
      "      similarity_score  \n",
      "2691          0.924536  \n",
      "5322          0.897210  \n",
      "4513          0.886739  \n",
      "4948          0.882508  \n",
      "739           0.881526  \n"
     ]
    }
   ],
   "source": [
    "import pandas as pd\n",
    "from sklearn.metrics.pairwise import cosine_similarity\n",
    "import numpy as np\n",
    "\n",
    "def recommend_anime(anime_name, df, features, top_n=5):\n",
    "    \"\"\"\n",
    "    Recommends similar anime based on cosine similarity.\n",
    "\n",
    "    Parameters:\n",
    "        anime_name (str): Name of the anime for which recommendations are needed.\n",
    "        df (pd.DataFrame): The original dataset containing anime details.\n",
    "        features (sparse matrix): Preprocessed feature matrix.\n",
    "        top_n (int): Number of recommendations to return.\n",
    "\n",
    "    Returns:\n",
    "        DataFrame with recommended anime names and similarity scores.\n",
    "    \"\"\"\n",
    "    # Get the index of the given anime\n",
    "    idx = df[df[\"name\"].str.lower() == anime_name.lower()].index\n",
    "\n",
    "    if len(idx) == 0:\n",
    "        return \"Anime not found in the dataset.\"\n",
    "\n",
    "    idx = idx[0]\n",
    "\n",
    "    # Compute cosine similarity with all anime\n",
    "    similarity_scores = cosine_similarity(features[idx], features).flatten()\n",
    "\n",
    "    # Get indices of top similar anime (excluding itself)\n",
    "    similar_indices = np.argsort(similarity_scores)[::-1][1:top_n+1]\n",
    "\n",
    "    # Get the recommended anime names and similarity scores\n",
    "    recommended_anime = df.iloc[similar_indices][[\"name\", \"rating\"]].copy()\n",
    "    recommended_anime[\"similarity_score\"] = similarity_scores[similar_indices]\n",
    "\n",
    "    return recommended_anime\n",
    "\n",
    "# Example usage: Recommend similar anime for \"Steins;Gate\"\n",
    "anime_to_search = \"Steins;Gate\"\n",
    "recommendations = recommend_anime(anime_to_search, df, features, top_n=5)\n",
    "print(recommendations)\n",
    "\n",
    "\n",
    "\n"
   ]
  },
  {
   "cell_type": "markdown",
   "id": "7cb53068-9d01-420a-b558-b08bde78d010",
   "metadata": {},
   "source": [
    "### Experiment with different threshold values for similarity scores to adjust the recommendation list size."
   ]
  },
  {
   "cell_type": "code",
   "execution_count": 502,
   "id": "afa33f8f-4f2e-4246-bf47-e19bd1ac0cd3",
   "metadata": {},
   "outputs": [
    {
     "data": {
      "text/html": [
       "<div>\n",
       "<style scoped>\n",
       "    .dataframe tbody tr th:only-of-type {\n",
       "        vertical-align: middle;\n",
       "    }\n",
       "\n",
       "    .dataframe tbody tr th {\n",
       "        vertical-align: top;\n",
       "    }\n",
       "\n",
       "    .dataframe thead th {\n",
       "        text-align: right;\n",
       "    }\n",
       "</style>\n",
       "<table border=\"1\" class=\"dataframe\">\n",
       "  <thead>\n",
       "    <tr style=\"text-align: right;\">\n",
       "      <th></th>\n",
       "      <th>name</th>\n",
       "      <th>rating</th>\n",
       "      <th>similarity_score</th>\n",
       "    </tr>\n",
       "  </thead>\n",
       "  <tbody>\n",
       "    <tr>\n",
       "      <th>2691</th>\n",
       "      <td>Yakushiji Ryouko no Kaiki Jikenbo</td>\n",
       "      <td>0.662665</td>\n",
       "      <td>0.924536</td>\n",
       "    </tr>\n",
       "    <tr>\n",
       "      <th>5322</th>\n",
       "      <td>Gyakuten Saiban: Sono &amp;quot;Shinjitsu&amp;quot;, I...</td>\n",
       "      <td>0.578631</td>\n",
       "      <td>0.897210</td>\n",
       "    </tr>\n",
       "    <tr>\n",
       "      <th>4513</th>\n",
       "      <td>Tokkou</td>\n",
       "      <td>0.605042</td>\n",
       "      <td>0.886739</td>\n",
       "    </tr>\n",
       "    <tr>\n",
       "      <th>4948</th>\n",
       "      <td>L/R: Licensed by Royal</td>\n",
       "      <td>0.590636</td>\n",
       "      <td>0.882508</td>\n",
       "    </tr>\n",
       "    <tr>\n",
       "      <th>739</th>\n",
       "      <td>Tantei Gakuen Q</td>\n",
       "      <td>0.744298</td>\n",
       "      <td>0.881526</td>\n",
       "    </tr>\n",
       "    <tr>\n",
       "      <th>4027</th>\n",
       "      <td>Kaiketsu Jouki Tanteidan</td>\n",
       "      <td>0.618247</td>\n",
       "      <td>0.870328</td>\n",
       "    </tr>\n",
       "    <tr>\n",
       "      <th>275</th>\n",
       "      <td>Durarara!!x2 Ketsu</td>\n",
       "      <td>0.787515</td>\n",
       "      <td>0.861697</td>\n",
       "    </tr>\n",
       "    <tr>\n",
       "      <th>391</th>\n",
       "      <td>Durarara!!x2 Ten</td>\n",
       "      <td>0.774310</td>\n",
       "      <td>0.861286</td>\n",
       "    </tr>\n",
       "    <tr>\n",
       "      <th>360</th>\n",
       "      <td>Durarara!!x2 Shou</td>\n",
       "      <td>0.777911</td>\n",
       "      <td>0.859829</td>\n",
       "    </tr>\n",
       "    <tr>\n",
       "      <th>1867</th>\n",
       "      <td>Matantei Loki Ragnarok</td>\n",
       "      <td>0.690276</td>\n",
       "      <td>0.853049</td>\n",
       "    </tr>\n",
       "  </tbody>\n",
       "</table>\n",
       "</div>"
      ],
      "text/plain": [
       "                                                   name    rating  \\\n",
       "2691                  Yakushiji Ryouko no Kaiki Jikenbo  0.662665   \n",
       "5322  Gyakuten Saiban: Sono &quot;Shinjitsu&quot;, I...  0.578631   \n",
       "4513                                             Tokkou  0.605042   \n",
       "4948                             L/R: Licensed by Royal  0.590636   \n",
       "739                                     Tantei Gakuen Q  0.744298   \n",
       "4027                           Kaiketsu Jouki Tanteidan  0.618247   \n",
       "275                                  Durarara!!x2 Ketsu  0.787515   \n",
       "391                                    Durarara!!x2 Ten  0.774310   \n",
       "360                                   Durarara!!x2 Shou  0.777911   \n",
       "1867                             Matantei Loki Ragnarok  0.690276   \n",
       "\n",
       "      similarity_score  \n",
       "2691          0.924536  \n",
       "5322          0.897210  \n",
       "4513          0.886739  \n",
       "4948          0.882508  \n",
       "739           0.881526  \n",
       "4027          0.870328  \n",
       "275           0.861697  \n",
       "391           0.861286  \n",
       "360           0.859829  \n",
       "1867          0.853049  "
      ]
     },
     "execution_count": 502,
     "metadata": {},
     "output_type": "execute_result"
    }
   ],
   "source": [
    "def recommend_anime_threshold(anime_name, df, features, similarity_threshold=0.8):\n",
    "    \"\"\"\n",
    "    Recommends similar anime based on a cosine similarity threshold.\n",
    "\n",
    "    Parameters:\n",
    "        anime_name (str): Name of the anime for which recommendations are needed.\n",
    "        df (pd.DataFrame): The original dataset containing anime details.\n",
    "        features (sparse matrix): Preprocessed feature matrix.\n",
    "        similarity_threshold (float): Minimum similarity score to include in the recommendations.\n",
    "\n",
    "    Returns:\n",
    "        DataFrame with recommended anime names and similarity scores.\n",
    "    \"\"\"\n",
    "    # Get the index of the given anime\n",
    "    idx = df[df[\"name\"].str.lower() == anime_name.lower()].index\n",
    "\n",
    "    if len(idx) == 0:\n",
    "        return \"Anime not found in the dataset.\"\n",
    "\n",
    "    idx = idx[0]\n",
    "\n",
    "    # Compute cosine similarity with all anime\n",
    "    similarity_scores = cosine_similarity(features[idx], features).flatten()\n",
    "\n",
    "    # Get indices of anime that meet the threshold\n",
    "    similar_indices = np.where(similarity_scores >= similarity_threshold)[0]\n",
    "\n",
    "    # Exclude the target anime itself\n",
    "    similar_indices = similar_indices[similar_indices != idx]\n",
    "\n",
    "    # Get the recommended anime names and similarity scores\n",
    "    recommended_anime = df.iloc[similar_indices][[\"name\", \"rating\"]].copy()\n",
    "    recommended_anime[\"similarity_score\"] = similarity_scores[similar_indices]\n",
    "\n",
    "    # Sort recommendations by similarity score in descending order\n",
    "    recommended_anime = recommended_anime.sort_values(by=\"similarity_score\", ascending=False)\n",
    "\n",
    "    return recommended_anime\n",
    "\n",
    "# Example usage: Adjust similarity threshold to get different recommendation list sizes\n",
    "anime_to_search = \"Steins;Gate\"\n",
    "threshold = 0.85  # Change this value to experiment\n",
    "recommendations_with_threshold = recommend_anime_threshold(anime_to_search, df, features, similarity_threshold=threshold)\n",
    "\n",
    "# Display the recommendations\n",
    "recommendations_with_threshold\n",
    "\n"
   ]
  },
  {
   "cell_type": "markdown",
   "id": "e9a49c38-24d7-47eb-a69a-4e9c1ca8567d",
   "metadata": {},
   "source": [
    "### Code to Split Dataset"
   ]
  },
  {
   "cell_type": "code",
   "execution_count": 505,
   "id": "b8877197-fc75-496d-b26b-968948bf7d32",
   "metadata": {},
   "outputs": [
    {
     "name": "stdout",
     "output_type": "stream",
     "text": [
      "Training set size: 9835\n",
      "Testing set size: 2459\n"
     ]
    }
   ],
   "source": [
    "from sklearn.model_selection import train_test_split\n",
    "\n",
    "# Splitting dataset into 80% training and 20% testing\n",
    "train_df, test_df = train_test_split(df, test_size=0.2, random_state=42)\n",
    "\n",
    "# Display dataset sizes\n",
    "print(\"Training set size:\", train_df.shape[0])\n",
    "print(\"Testing set size:\", test_df.shape[0])\n",
    "\n",
    "\n"
   ]
  },
  {
   "cell_type": "markdown",
   "id": "64c674d1-161e-4618-9779-ce61a4cbd865",
   "metadata": {},
   "source": [
    "### Evaluating the Anime Recommendation System\n",
    "#### To evaluate the performance of your anime recommendation system, we can use Precision, Recall, and F1-Score"
   ]
  },
  {
   "cell_type": "code",
   "execution_count": 508,
   "id": "1500e9de-e54c-48cd-aacf-d54852eb6c2f",
   "metadata": {},
   "outputs": [
    {
     "name": "stdout",
     "output_type": "stream",
     "text": [
      "Precision: 0.19959333062220413\n",
      "Recall: 1.0\n",
      "F1-score: 0.3327683232761543\n"
     ]
    }
   ],
   "source": [
    "from sklearn.metrics import precision_score, recall_score, f1_score\n",
    "\n",
    "def evaluate_recommendation_system(test_df, df, features, top_n=5):\n",
    "    \"\"\"\n",
    "    Evaluates the recommendation system using precision, recall, and F1-score.\n",
    "\n",
    "    Parameters:\n",
    "        test_df (pd.DataFrame): The test dataset.\n",
    "        df (pd.DataFrame): The full dataset.\n",
    "        features (sparse matrix): Feature matrix used for similarity.\n",
    "        top_n (int): Number of recommendations per anime.\n",
    "\n",
    "    Returns:\n",
    "        Precision, Recall, and F1-score.\n",
    "    \"\"\"\n",
    "    actual_liked_anime = []  # List of anime that users actually liked\n",
    "    predicted_recommendations = []  # List of anime recommended by the system\n",
    "\n",
    "    for anime_name in test_df[\"name\"]:\n",
    "        recommendations = recommend_anime(anime_name, df, features, top_n)\n",
    "\n",
    "        if isinstance(recommendations, str):\n",
    "            continue  # Skip if anime is not found\n",
    "\n",
    "        actual_liked_anime.append(anime_name)\n",
    "        predicted_recommendations.append(recommendations[\"name\"].tolist())\n",
    "\n",
    "    # Convert to binary format for evaluation\n",
    "    y_true = [1 if anime in actual_liked_anime else 0 for sublist in predicted_recommendations for anime in sublist]\n",
    "    y_pred = [1] * len(y_true)  # Since all recommendations are \"positive\" cases\n",
    "\n",
    "    # Compute evaluation metrics\n",
    "    precision = precision_score(y_true, y_pred, average=\"binary\")\n",
    "    recall = recall_score(y_true, y_pred, average=\"binary\")\n",
    "    f1 = f1_score(y_true, y_pred, average=\"binary\")\n",
    "\n",
    "    return precision, recall, f1\n",
    "\n",
    "# Run evaluation\n",
    "precision, recall, f1 = evaluate_recommendation_system(test_df, df, features, top_n=5)\n",
    "\n",
    "print(\"Precision:\", precision)\n",
    "print(\"Recall:\", recall)\n",
    "print(\"F1-score:\", f1)\n",
    "\n",
    "\n"
   ]
  },
  {
   "cell_type": "markdown",
   "id": "b2de42eb-a56d-486a-934c-72a29c9d9776",
   "metadata": {},
   "source": [
    "# Performance Analysis of the Recommendation System\n",
    "## 1. Understanding the Metrics:\n",
    "### From your evaluation results:\n",
    "\n",
    "### Precision = 0.1996 (~20%) → Only 20% of recommended anime are actually relevant.\n",
    "\n",
    "### Recall = 1.0 (100%) → The system retrieves all relevant anime.\n",
    "\n",
    "### F1-score = 0.3328 (~33%) → The overall balance between precision and recall is quite low.\n",
    "\n",
    "## 2. Observations:\n",
    "### High recall (1.0) but low precision (0.2) suggests that the system retrieves too many recommendations, but most of them aren’t highly relevant.\n",
    "\n",
    "### F1-score is low, meaning the balance between precision and recall isn’t ideal"
   ]
  },
  {
   "cell_type": "markdown",
   "id": "92f55b8f-b0a0-4e39-8e3c-8709e0ffb675",
   "metadata": {},
   "source": [
    "## Interview Question"
   ]
  },
  {
   "cell_type": "markdown",
   "id": "70bc3bda-3d5f-4390-82b9-27970711f9c9",
   "metadata": {},
   "source": [
    "### 1. Can you explain the difference between user-based and item-based collaborative filtering?"
   ]
  },
  {
   "cell_type": "markdown",
   "id": "6fa3b7a4-42e0-4f37-ad0b-9bb4fafe0c2a",
   "metadata": {},
   "source": [
    "## User-Based Collaborative Filtering (UBCF)\n",
    "### Concept: Finds similar users and recommends anime liked by those users.\n",
    "\n",
    "### Pros: Personalized recommendations, works well with rich user data.\n",
    "\n",
    "### Cons: Cold start for new users, computationally expensive for large user bases.\n",
    "\n",
    "## Item-Based Collaborative Filtering (IBCF)\n",
    "### Concept: Finds similar anime based on user interactions and recommends anime that are frequently watched/rated together.\n",
    "\n",
    "### Pros: More scalable, no cold start for users.\n",
    "\n",
    "### Cons: Cold start for new anime, can overfit to popular anime."
   ]
  },
  {
   "cell_type": "markdown",
   "id": "dca3a916-377f-48c4-85e4-d453d2bd61c4",
   "metadata": {},
   "source": [
    "## 2. What is collaborative filtering, and how does it work?"
   ]
  },
  {
   "cell_type": "markdown",
   "id": "45974f6e-471f-40fe-9a63-23665e9003d4",
   "metadata": {},
   "source": [
    " ### What is Collaborative Filtering?\n",
    "#### Collaborative Filtering (CF) is a recommendation technique that suggests items based on past interactions of users. It assumes that users with similar tastes in the past will have similar preferences in the future.\n",
    "\n",
    "### How Does It Work?\n",
    "#### Collect User-Item Interaction Data (e.g., anime ratings, watch history).\n",
    "\n",
    "#### Find Similar Users or Items based on interactions (using similarity measures like cosine similarity or Pearson correlation).\n",
    "\n",
    "#### Make Predictions by recommending items that similar users or items interacted with but the target user hasn’t seen yet."
   ]
  },
  {
   "cell_type": "code",
   "execution_count": null,
   "id": "92f09677-aced-4498-a6d2-a08ad67434c5",
   "metadata": {},
   "outputs": [],
   "source": []
  }
 ],
 "metadata": {
  "kernelspec": {
   "display_name": "Python [conda env:base] *",
   "language": "python",
   "name": "conda-base-py"
  },
  "language_info": {
   "codemirror_mode": {
    "name": "ipython",
    "version": 3
   },
   "file_extension": ".py",
   "mimetype": "text/x-python",
   "name": "python",
   "nbconvert_exporter": "python",
   "pygments_lexer": "ipython3",
   "version": "3.12.7"
  }
 },
 "nbformat": 4,
 "nbformat_minor": 5
}
