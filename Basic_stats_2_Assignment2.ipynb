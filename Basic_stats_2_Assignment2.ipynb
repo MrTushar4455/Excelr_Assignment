{
  "nbformat": 4,
  "nbformat_minor": 0,
  "metadata": {
    "colab": {
      "provenance": []
    },
    "kernelspec": {
      "name": "python3",
      "display_name": "Python 3"
    },
    "language_info": {
      "name": "python"
    }
  },
  "cells": [
    {
      "cell_type": "markdown",
      "source": [
        "#           Estimation And Confidence Intervals"
      ],
      "metadata": {
        "id": "ahptYi60XCC1"
      }
    },
    {
      "cell_type": "markdown",
      "source": [
        "**Background**\n",
        "\n",
        "In quality control processes, especially when dealing with high-value items, destructive sampling is a necessary but costly method to ensure product quality. The test to determine whether an item meets the quality standards destroys the item, leading to the requirement of small sample sizes due to cost constraints.\n",
        "\n",
        "**Scenario**\n",
        "\n",
        "A manufacturer of print-heads for personal computers is interested in estimating the mean durability of their print-heads in terms of the number of characters printed before failure. To assess this, the manufacturer conducts a study on a small sample of print-heads due to the destructive nature of the testing process.\n",
        "\n",
        "**Data**\n",
        "\n",
        "A total of 15 print-heads were randomly selected and tested until failure. The durability of each print-head (in millions of characters) was recorded as follows:\n",
        "\n",
        "1.13, 1.55, 1.43, 0.92, 1.25, 1.36, 1.32, 0.85, 1.07, 1.48, 1.20, 1.33, 1.18, 1.22, 1.29\n"
      ],
      "metadata": {
        "id": "6yPIkQSHXQ6p"
      }
    },
    {
      "cell_type": "markdown",
      "source": [
        "**Assignment Tasks**"
      ],
      "metadata": {
        "id": "jOJQVa8WXgnp"
      }
    },
    {
      "cell_type": "markdown",
      "source": [
        "***a. Build 99% Confidence Interval Using Sample Standard Deviation***\n",
        "\n",
        "Assuming the sample is representative of the population, construct a 99% confidence interval for the mean number of characters printed before the print-head fails using the sample standard deviation. Explain the steps you take and the rationale behind using the t-distribution for this task.\n"
      ],
      "metadata": {
        "id": "N2d1mB3cXlZp"
      }
    },
    {
      "cell_type": "code",
      "source": [
        "import numpy as np\n",
        "import scipy.stats as stats\n",
        "\n",
        "sample_data = [1.13, 1.55, 1.43, 0.92, 1.25, 1.36, 1.32, 0.85, 1.07, 1.48,\n",
        "               1.20, 1.33, 1.18, 1.22, 1.29]\n",
        "\n",
        "x_bar = np.mean(sample_data)\n",
        "s = np.std(sample_data, ddof=1)\n",
        "n = len(sample_data)\n",
        "SE = s / np.sqrt(n)\n",
        "t_critical = stats.t.ppf(0.995, df=n-1)\n",
        "ME = t_critical * SE\n",
        "CI_lower = x_bar - ME\n",
        "CI_upper = x_bar + ME\n",
        "\n",
        "print(f\"Sample Mean: {x_bar:.3f} million characters\")\n",
        "print(f\"Sample Standard Deviation: {s:.3f} million characters\")\n",
        "print(f\"Standard Error: {SE:.3f} million characters\")\n",
        "print(f\"t-Critical Value: {t_critical:.4f}\")\n",
        "print(f\"Margin of Error: {ME:.3f} million characters\")\n",
        "print(f\"99% Confidence Interval: ({CI_lower:.3f}, {CI_upper:.3f}) million characters\")\n"
      ],
      "metadata": {
        "colab": {
          "base_uri": "https://localhost:8080/"
        },
        "id": "HT0xihIBXvc4",
        "outputId": "53ab9f39-093b-41fb-dddc-c11799d2f1ea"
      },
      "execution_count": null,
      "outputs": [
        {
          "output_type": "stream",
          "name": "stdout",
          "text": [
            "Sample Mean: 1.239 million characters\n",
            "Sample Standard Deviation: 0.193 million characters\n",
            "Standard Error: 0.050 million characters\n",
            "t-Critical Value: 2.9768\n",
            "Margin of Error: 0.148 million characters\n",
            "99% Confidence Interval: (1.090, 1.387) million characters\n"
          ]
        }
      ]
    },
    {
      "cell_type": "markdown",
      "source": [
        "***b. Build 99% Confidence Interval Using Known Population Standard Deviation***\n",
        "\n",
        "If it were known that the population standard deviation is 0.2 million characters, construct a 99% confidence interval for the mean number of characters printed before failure.\n"
      ],
      "metadata": {
        "id": "pgvNzL4zYD40"
      }
    },
    {
      "cell_type": "code",
      "source": [
        "import numpy as np\n",
        "import scipy.stats as stats\n",
        "\n",
        "sample_data = [1.13, 1.55, 1.43, 0.92, 1.25, 1.36, 1.32, 0.85, 1.07, 1.48,\n",
        "               1.20, 1.33, 1.18, 1.22, 1.29]\n",
        "\n",
        "x_bar = np.mean(sample_data)\n",
        "sigma = 0.2  # Known population standard deviation\n",
        "n = len(sample_data)\n",
        "SE = sigma / np.sqrt(n)\n",
        "z_critical = stats.norm.ppf(0.995)  # Z-score for 99% confidence level\n",
        "ME = z_critical * SE\n",
        "CI_lower = x_bar - ME\n",
        "CI_upper = x_bar + ME\n",
        "\n",
        "print(f\"Sample Mean: {x_bar:.3f} million characters\\n\")\n",
        "print(f\"Population Standard Deviation: {sigma:.3f} million characters\\n\")\n",
        "print(f\"Standard Error: {SE:.3f} million characters\\n\")\n",
        "print(f\"Z-Critical Value: {z_critical:.4f}\\n\")\n",
        "print(f\"Margin of Error: {ME:.3f} million characters\\n\")\n",
        "print(f\"99% Confidence Interval: ({CI_lower:.3f}, {CI_upper:.3f}) million characters\\n\")\n"
      ],
      "metadata": {
        "colab": {
          "base_uri": "https://localhost:8080/"
        },
        "id": "PdTE8EBgYSnV",
        "outputId": "e42fee3f-2c10-4891-de4a-a220c420604f"
      },
      "execution_count": null,
      "outputs": [
        {
          "output_type": "stream",
          "name": "stdout",
          "text": [
            "Sample Mean: 1.239 million characters\n",
            "\n",
            "Population Standard Deviation: 0.200 million characters\n",
            "Standard Error: 0.052 million characters\n",
            "Z-Critical Value: 2.5758\n",
            "Margin of Error: 0.133 million characters\n",
            "99% Confidence Interval: (1.106, 1.372) million characters\n"
          ]
        }
      ]
    }
  ]
}